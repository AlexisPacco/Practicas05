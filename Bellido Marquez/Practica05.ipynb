{
 "cells": [
  {
   "cell_type": "code",
   "execution_count": 1,
   "id": "a7a32812-489c-4476-9f87-0c7477b4de01",
   "metadata": {},
   "outputs": [
    {
     "name": "stdout",
     "output_type": "stream",
     "text": [
      "El numero 2 ha sido encontrado en el indice 3\n"
     ]
    }
   ],
   "source": [
    "valores = [5, 1, 9, 2, 7, 4]\n",
    "encontrado = False\n",
    "indice = 0\n",
    "longitud = len(valores)\n",
    "while not encontrado and indice < longitud:\n",
    "    valor = valores[indice]\n",
    "    if valor == 2:\n",
    "        encontrado = True\n",
    "    else:\n",
    "        indice += 1\n",
    "if encontrado:\n",
    "    print(f'El numero 2 ha sido encontrado en el indice {indice}')\n",
    "else:\n",
    "    print('El numero 2 no se encuentra en la lista de valores')"
   ]
  },
  {
   "cell_type": "code",
   "execution_count": 2,
   "id": "a2b685aa-4581-4789-8426-f48f86235a6c",
   "metadata": {},
   "outputs": [
    {
     "name": "stdout",
     "output_type": "stream",
     "text": [
      "Por favor ingrese su contraseña: \n"
     ]
    },
    {
     "name": "stdin",
     "output_type": "stream",
     "text": [
      " 12\n"
     ]
    },
    {
     "name": "stdout",
     "output_type": "stream",
     "text": [
      "Por favor ingrese su contraseña: \n"
     ]
    },
    {
     "name": "stdin",
     "output_type": "stream",
     "text": [
      " 23\n"
     ]
    },
    {
     "name": "stdout",
     "output_type": "stream",
     "text": [
      "Por favor ingrese su contraseña: \n"
     ]
    },
    {
     "name": "stdin",
     "output_type": "stream",
     "text": [
      " 34\n"
     ]
    },
    {
     "name": "stdout",
     "output_type": "stream",
     "text": [
      "Por favor ingrese su contraseña: \n"
     ]
    },
    {
     "name": "stdin",
     "output_type": "stream",
     "text": [
      " 45\n"
     ]
    },
    {
     "name": "stdout",
     "output_type": "stream",
     "text": [
      "Por favor ingrese su contraseña: \n"
     ]
    },
    {
     "name": "stdin",
     "output_type": "stream",
     "text": [
      " 123\n"
     ]
    },
    {
     "name": "stdout",
     "output_type": "stream",
     "text": [
      "Finlizo los intentos...!\n"
     ]
    }
   ],
   "source": [
    "password = ''\n",
    "\n",
    "cont = 0\n",
    "while password != '12345':\n",
    "    cont +=1\n",
    "    print('Por favor ingrese su contraseña: ')\n",
    "    password = input()\n",
    "    if cont ==5:\n",
    "        print('Finlizo los intentos...!')\n",
    "        break\n",
    "if cont !=5:\n",
    "    print('Por fin...!')"
   ]
  },
  {
   "cell_type": "code",
   "execution_count": 3,
   "id": "72143300-9182-450d-8a68-38ba7dfb4885",
   "metadata": {},
   "outputs": [
    {
     "name": "stdin",
     "output_type": "stream",
     "text": [
      "Ingrese numero de inicio n : ==> 5\n"
     ]
    },
    {
     "name": "stdout",
     "output_type": "stream",
     "text": [
      "5, 16, 8, 4, 2, 1.\n"
     ]
    }
   ],
   "source": [
    "def seq3npl(n):\n",
    "    while n !=1:\n",
    "        print(n, end=\", \")\n",
    "        if n % 2 == 0:\n",
    "            n = n // 2\n",
    "        else:\n",
    "            n = n * 3 + 1\n",
    "    print(n, end=\".\\n\")\n",
    "    \n",
    "num = int(input('Ingrese numero de inicio n : ==>'))\n",
    "seq3npl(num)"
   ]
  },
  {
   "cell_type": "code",
   "execution_count": 4,
   "id": "59e7fab9-71a3-488d-a896-6b15549a9ec1",
   "metadata": {},
   "outputs": [
    {
     "name": "stdin",
     "output_type": "stream",
     "text": [
      "Ingrese un numero que contenga los digitos \"0\" y \"5\" : ==> 5005243\n"
     ]
    },
    {
     "name": "stdout",
     "output_type": "stream",
     "text": [
      "\n",
      "\n",
      "tLa cantidad de digitos \"0\" y \"5\" en el numero  5005243 es: ==> 4\n"
     ]
    }
   ],
   "source": [
    "def num_digi(n):\n",
    "    count = 0\n",
    "    while n > 0:\n",
    "        digit = n % 10\n",
    "        if digit == 0 or digit == 5:\n",
    "            count = count + 1\n",
    "        n = n // 10\n",
    "    return count\n",
    "\n",
    "num = int(input('Ingrese un numero que contenga los digitos \"0\" y \"5\" : ==>'))\n",
    "\n",
    "cantidad = num_digi(num)\n",
    "\n",
    "print('\\n\\ntLa cantidad de digitos \"0\" y \"5\" en el numero ',num,'es: ==>', cantidad)"
   ]
  }
 ],
 "metadata": {
  "kernelspec": {
   "display_name": "Python 3 (ipykernel)",
   "language": "python",
   "name": "python3"
  },
  "language_info": {
   "codemirror_mode": {
    "name": "ipython",
    "version": 3
   },
   "file_extension": ".py",
   "mimetype": "text/x-python",
   "name": "python",
   "nbconvert_exporter": "python",
   "pygments_lexer": "ipython3",
   "version": "3.12.4"
  }
 },
 "nbformat": 4,
 "nbformat_minor": 5
}
