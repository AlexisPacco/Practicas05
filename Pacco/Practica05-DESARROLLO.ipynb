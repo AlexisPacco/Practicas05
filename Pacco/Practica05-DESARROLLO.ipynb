{
 "cells": [
  {
   "cell_type": "code",
   "execution_count": 1,
   "id": "1f1ff6ab-796f-4098-9220-c35f90645ec1",
   "metadata": {},
   "outputs": [],
   "source": [
    "###DESARROLLO"
   ]
  },
  {
   "cell_type": "code",
   "execution_count": null,
   "id": "9db70609-1c47-478d-8968-943e92147fcb",
   "metadata": {},
   "outputs": [],
   "source": [
    "##Estructura Iterativa - Bucle 'while'\n",
    "while <condicion>:\n",
    "    <codigo>\n",
    "    <codigo>\n",
    "    ........................"
   ]
  },
  {
   "cell_type": "code",
   "execution_count": 3,
   "id": "b40d3924-852a-4578-a145-5a276d09a57c",
   "metadata": {},
   "outputs": [
    {
     "name": "stdout",
     "output_type": "stream",
     "text": [
      " Tabla del numero 3\n",
      "3 X0 ==> 0\n",
      "3 X1 ==> 3\n",
      "3 X2 ==> 6\n",
      "3 X3 ==> 9\n",
      "3 X4 ==> 12\n",
      "3 X5 ==> 15\n",
      "3 X6 ==> 18\n",
      "3 X7 ==> 21\n",
      "3 X8 ==> 24\n",
      "3 X9 ==> 27\n",
      "3 X10 ==> 30\n",
      "Fin de la tabla\n"
     ]
    }
   ],
   "source": [
    "##Hacer un programa que imprima la tabla dell 3:\n",
    "#'while' imprimiendo Tabla del numero 3\n",
    "contador = 0\n",
    "print(' Tabla del numero 3')\n",
    "\n",
    "#bucle while\n",
    "while contador <=10:\n",
    "    print(f'3 X{contador} ==> {contador*3}')\n",
    "    contador += 1\n",
    "print('Fin de la tabla')\n"
   ]
  },
  {
   "cell_type": "code",
   "execution_count": 4,
   "id": "c7c8e617-a752-46e0-ac1a-8a3cd827a4e5",
   "metadata": {},
   "outputs": [
    {
     "name": "stdin",
     "output_type": "stream",
     "text": [
      "Ingrese el numero de veces a repetir la frase:  5\n"
     ]
    },
    {
     "name": "stdout",
     "output_type": "stream",
     "text": [
      "\n",
      "\n",
      "\n",
      "Debo escribir mi propio codigo y comentario\n",
      "Debo escribir mi propio codigo y comentario\n",
      "Debo escribir mi propio codigo y comentario\n",
      "Debo escribir mi propio codigo y comentario\n",
      "Debo escribir mi propio codigo y comentario\n"
     ]
    }
   ],
   "source": [
    "##Hacer un programa que repita una frase las veces que se desee, use funciones\n",
    "#frase a repetir\n",
    "frase = \"Debo escribir mi propio codigo y comentario\"\n",
    "#contador\n",
    "cont = 0\n",
    "\n",
    "#funcion recibe n veces\n",
    "def repetir(n,cont):\n",
    "    while cont < n:\n",
    "        print(frase)\n",
    "        cont +=1\n",
    "\n",
    "num = int(input('Ingrese el numero de veces a repetir la frase: '))\n",
    "print('\\n\\n')\n",
    "\n",
    "#llamar a la funcion\n",
    "repetir(num,cont)\n"
   ]
  },
  {
   "cell_type": "code",
   "execution_count": 5,
   "id": "8957c020-e374-4cbe-866f-5b046b8afd3b",
   "metadata": {},
   "outputs": [
    {
     "name": "stdout",
     "output_type": "stream",
     "text": [
      "Porfavor ingrese su contraseña\n"
     ]
    },
    {
     "name": "stdin",
     "output_type": "stream",
     "text": [
      " 12\n"
     ]
    },
    {
     "name": "stdout",
     "output_type": "stream",
     "text": [
      "Porfavor ingrese su contraseña\n"
     ]
    },
    {
     "name": "stdin",
     "output_type": "stream",
     "text": [
      " 12\n"
     ]
    },
    {
     "name": "stdout",
     "output_type": "stream",
     "text": [
      "Porfavor ingrese su contraseña\n"
     ]
    },
    {
     "name": "stdin",
     "output_type": "stream",
     "text": [
      " 12345\n"
     ]
    },
    {
     "name": "stdout",
     "output_type": "stream",
     "text": [
      "Por fin....!\n"
     ]
    }
   ],
   "source": [
    "##Hacer un programa que solicite ingreso de contraseña:\n",
    "#Ingreso de password\n",
    "\n",
    "password = ''\n",
    "\n",
    "while password != '12345':\n",
    "    print('Porfavor ingrese su contraseña')\n",
    "    password = input()\n",
    "\n",
    "print('Por fin....!')\n"
   ]
  },
  {
   "cell_type": "code",
   "execution_count": 6,
   "id": "d0d48e20-c4a1-4e28-8b72-a7b370cbf859",
   "metadata": {},
   "outputs": [
    {
     "name": "stdout",
     "output_type": "stream",
     "text": [
      "Por favor ingrese su nombre: \n"
     ]
    },
    {
     "name": "stdin",
     "output_type": "stream",
     "text": [
      " asd\n"
     ]
    },
    {
     "name": "stdout",
     "output_type": "stream",
     "text": [
      "Por favor ingrese su nombre: \n"
     ]
    },
    {
     "name": "stdin",
     "output_type": "stream",
     "text": [
      " asd\n"
     ]
    },
    {
     "name": "stdout",
     "output_type": "stream",
     "text": [
      "Por favor ingrese su nombre: \n"
     ]
    },
    {
     "name": "stdin",
     "output_type": "stream",
     "text": [
      " ROSE\n"
     ]
    },
    {
     "name": "stdout",
     "output_type": "stream",
     "text": [
      " Hasta luego !!!!\n"
     ]
    }
   ],
   "source": [
    "##Hacer un programa que valide ingreso nombre Rose:\n",
    "\n",
    "while True:\n",
    "    print('Por favor ingrese su nombre: ')\n",
    "    name = input()\n",
    "    if name.lower() == 'rose':\n",
    "        break\n",
    "\n",
    "print(' Hasta luego !!!!')\n"
   ]
  },
  {
   "cell_type": "code",
   "execution_count": 7,
   "id": "f293ecb6-a8d1-48ec-87de-69d23e0c5525",
   "metadata": {},
   "outputs": [
    {
     "name": "stdin",
     "output_type": "stream",
     "text": [
      "Ingrese su nombre:  luisito\n",
      "Ingrese su nombre:  fatima\n"
     ]
    },
    {
     "name": "stdout",
     "output_type": "stream",
     "text": [
      "\n",
      "Hola Fatima, por favor ingresa tu contraseña: \n"
     ]
    },
    {
     "name": "stdin",
     "output_type": "stream",
     "text": [
      " 1325\n"
     ]
    },
    {
     "name": "stdout",
     "output_type": "stream",
     "text": [
      "\n",
      " Acceso Negado\n"
     ]
    }
   ],
   "source": [
    "##Hacer un programa que valide nombre y contraseña de dos listas respectivamente:\n",
    "#lista de nombre y numeros\n",
    "nombre = ['juan','pedro','luis','fatima','vladi']\n",
    "contra = ['1234','4321','abcd','dcba','4567']\n",
    "\n",
    "#while\n",
    "\n",
    "while True:\n",
    "    name = input('Ingrese su nombre: ')\n",
    "    if name not in nombre:\n",
    "        continue\n",
    "    print(f'\\nHola {name.title()}, por favor ingresa tu contraseña: ')\n",
    "    password = input()\n",
    "    if password in contra:\n",
    "        print('\\nBienvenido a su cuenta Bancaria')\n",
    "        break\n",
    "    else:\n",
    "        print('\\n Acceso Negado')\n",
    "        break\n",
    "\n"
   ]
  },
  {
   "cell_type": "code",
   "execution_count": null,
   "id": "13336f66-ded5-4fcd-99c4-7c1db328178e",
   "metadata": {},
   "outputs": [],
   "source": []
  }
 ],
 "metadata": {
  "kernelspec": {
   "display_name": "Python 3 (ipykernel)",
   "language": "python",
   "name": "python3"
  },
  "language_info": {
   "codemirror_mode": {
    "name": "ipython",
    "version": 3
   },
   "file_extension": ".py",
   "mimetype": "text/x-python",
   "name": "python",
   "nbconvert_exporter": "python",
   "pygments_lexer": "ipython3",
   "version": "3.12.4"
  }
 },
 "nbformat": 4,
 "nbformat_minor": 5
}
