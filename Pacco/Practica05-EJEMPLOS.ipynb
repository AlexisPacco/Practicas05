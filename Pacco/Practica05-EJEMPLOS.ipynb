{
 "cells": [
  {
   "cell_type": "code",
   "execution_count": 1,
   "id": "8379249f-46ed-4c2b-a8fa-7ab2bfcd6ee2",
   "metadata": {},
   "outputs": [],
   "source": [
    "###EJEMPLOS"
   ]
  },
  {
   "cell_type": "code",
   "execution_count": 3,
   "id": "718efe76-c74f-4af7-a64e-bc3f377a3096",
   "metadata": {},
   "outputs": [
    {
     "name": "stdout",
     "output_type": "stream",
     "text": [
      "El numero 2 ha sido encontrado en el indice 3\n"
     ]
    }
   ],
   "source": [
    "##Hacer un programa que busque el numero 2 dentro de una lista de Numeros, si se encuentra, que imprima el indice dentro de la lista:\n",
    "\n",
    "valores = [5, 1, 9, 2, 7, 4]\n",
    "encontrado = False\n",
    "indice = 0\n",
    "longitud = len(valores)\n",
    "while not encontrado and indice < longitud:\n",
    "    valor = valores[indice]\n",
    "    if valor == 2:\n",
    "        encontrado = True\n",
    "    else:\n",
    "        indice += 1\n",
    "if encontrado:\n",
    "    print(f'El numero 2 ha sido encontrado en el indice {indice}')\n",
    "else:\n",
    "    print('El numero 2 no se encuentra en la lista de valores')\n"
   ]
  },
  {
   "cell_type": "code",
   "execution_count": 4,
   "id": "ef627973-01ab-4c9a-838e-200addc3646e",
   "metadata": {},
   "outputs": [
    {
     "name": "stdout",
     "output_type": "stream",
     "text": [
      "Por favor ingrese su contraseña: \n"
     ]
    },
    {
     "name": "stdin",
     "output_type": "stream",
     "text": [
      " 12\n"
     ]
    },
    {
     "name": "stdout",
     "output_type": "stream",
     "text": [
      "Por favor ingrese su contraseña: \n"
     ]
    },
    {
     "name": "stdin",
     "output_type": "stream",
     "text": [
      " 2341\n"
     ]
    },
    {
     "name": "stdout",
     "output_type": "stream",
     "text": [
      "Por favor ingrese su contraseña: \n"
     ]
    },
    {
     "name": "stdin",
     "output_type": "stream",
     "text": [
      " 132\n"
     ]
    },
    {
     "name": "stdout",
     "output_type": "stream",
     "text": [
      "Por favor ingrese su contraseña: \n"
     ]
    },
    {
     "name": "stdin",
     "output_type": "stream",
     "text": [
      " 68\n"
     ]
    },
    {
     "name": "stdout",
     "output_type": "stream",
     "text": [
      "Por favor ingrese su contraseña: \n"
     ]
    },
    {
     "name": "stdin",
     "output_type": "stream",
     "text": [
      " 64654\n"
     ]
    },
    {
     "name": "stdout",
     "output_type": "stream",
     "text": [
      "Finalizo los intentos...!\n"
     ]
    }
   ],
   "source": [
    "##Hacer un programa que solicite ingreso de contraseña con intentos limitados:\n",
    "#Ingreso password\n",
    "password = ''\n",
    "\n",
    "#sino tengo contador while True:\n",
    "\n",
    "cont = 0\n",
    "while password != '12345':\n",
    "    cont += 1\n",
    "    print('Por favor ingrese su contraseña: ')\n",
    "    password = input()\n",
    "    if cont == 5:\n",
    "        print('Finalizo los intentos...!')\n",
    "        break\n",
    "if cont != 5:\n",
    "    print('Por fin...!')\n"
   ]
  },
  {
   "cell_type": "code",
   "execution_count": 6,
   "id": "ed8c4bc7-b604-43e5-b277-5f3fb6cc20f9",
   "metadata": {},
   "outputs": [
    {
     "name": "stdin",
     "output_type": "stream",
     "text": [
      "Ingrese numero de inicio n : ==>  5\n"
     ]
    },
    {
     "name": "stdout",
     "output_type": "stream",
     "text": [
      "5, 16, 8, 4, 2, 1.\n"
     ]
    }
   ],
   "source": [
    "##Imprime la secuencia 3n+1 desde un numero n, terminando cuando llegue a 1:\n",
    "\n",
    "def seq3np1(n):\n",
    "    while n != 1:\n",
    "        print(n, end=\", \")\n",
    "        if n % 2 == 0:\n",
    "            n = n // 2\n",
    "        else:\n",
    "            n = n * 3 + 1\n",
    "    print(n, end=\".\\n\")\n",
    "\n",
    "num = int(input('Ingrese numero de inicio n : ==> '))\n",
    "seq3np1(num)\n"
   ]
  },
  {
   "cell_type": "code",
   "execution_count": 7,
   "id": "df643e03-191e-4cb5-bd07-8b7bc693be04",
   "metadata": {},
   "outputs": [
    {
     "name": "stdin",
     "output_type": "stream",
     "text": [
      "Ingrese un numero que contenga los digitos \"0\" y \"5\" : ==>  1112311511245\n"
     ]
    },
    {
     "name": "stdout",
     "output_type": "stream",
     "text": [
      "\n",
      "\n",
      "\tLa cantidad de digitos \"0\" y \"5\" en el numero  1112311511245  es: ==> 2\n"
     ]
    }
   ],
   "source": [
    "##Hacer un programa con funcion que cuenta el numero de digitos que son 0 o 5 en un entero prositivo:\n",
    "#Creamos la funcion\n",
    "def num_digi(n):\n",
    "    count = 0\n",
    "    while n > 0:\n",
    "        digit = n % 10\n",
    "        if digit == 0 or digit == 5:\n",
    "            count = count + 1\n",
    "        n = n // 10\n",
    "    return count\n",
    "\n",
    "#solicitamos numero\n",
    "num = int(input('Ingrese un numero que contenga los digitos \"0\" y \"5\" : ==> '))\n",
    "\n",
    "#asignamos la cantidad que retorna\n",
    "cantidad = num_digi(num)\n",
    "\n",
    "#imprimir resultado\n",
    "print('\\n\\n\\tLa cantidad de digitos \"0\" y \"5\" en el numero ',num,' es: ==>',cantidad)\n"
   ]
  },
  {
   "cell_type": "code",
   "execution_count": null,
   "id": "de176316-d727-4304-b881-d1116d2c419f",
   "metadata": {},
   "outputs": [],
   "source": []
  }
 ],
 "metadata": {
  "kernelspec": {
   "display_name": "Python 3 (ipykernel)",
   "language": "python",
   "name": "python3"
  },
  "language_info": {
   "codemirror_mode": {
    "name": "ipython",
    "version": 3
   },
   "file_extension": ".py",
   "mimetype": "text/x-python",
   "name": "python",
   "nbconvert_exporter": "python",
   "pygments_lexer": "ipython3",
   "version": "3.12.4"
  }
 },
 "nbformat": 4,
 "nbformat_minor": 5
}
